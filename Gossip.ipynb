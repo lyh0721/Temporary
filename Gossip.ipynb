{
 "cells": [
  {
   "cell_type": "code",
   "execution_count": 7,
   "id": "84f79809",
   "metadata": {},
   "outputs": [],
   "source": [
    "#pip install python-binance"
   ]
  },
  {
   "cell_type": "code",
   "execution_count": 2,
   "id": "c41e2bd8",
   "metadata": {
    "scrolled": true
   },
   "outputs": [],
   "source": [
    "import numpy as np\n",
    "import pandas as pd\n",
    "from binance.client import Client\n",
    "import math\n",
    "import datetime\n",
    "#import statsmodels.api as sm\n",
    "api_key = ''"
   ]
  },
  {
   "cell_type": "markdown",
   "id": "0f546686",
   "metadata": {},
   "source": [
    "# 1. Import original data"
   ]
  },
  {
   "cell_type": "code",
   "execution_count": 3,
   "id": "5fd6c89b",
   "metadata": {},
   "outputs": [
    {
     "data": {
      "text/html": [
       "<div>\n",
       "<style scoped>\n",
       "    .dataframe tbody tr th:only-of-type {\n",
       "        vertical-align: middle;\n",
       "    }\n",
       "\n",
       "    .dataframe tbody tr th {\n",
       "        vertical-align: top;\n",
       "    }\n",
       "\n",
       "    .dataframe thead th {\n",
       "        text-align: right;\n",
       "    }\n",
       "</style>\n",
       "<table border=\"1\" class=\"dataframe\">\n",
       "  <thead>\n",
       "    <tr style=\"text-align: right;\">\n",
       "      <th></th>\n",
       "      <th>Open_time</th>\n",
       "      <th>open</th>\n",
       "      <th>high</th>\n",
       "      <th>low</th>\n",
       "      <th>close</th>\n",
       "      <th>volume</th>\n",
       "      <th>Close_time</th>\n",
       "      <th>Quote asset volume</th>\n",
       "      <th>number of trades</th>\n",
       "      <th>Taker buy base asset volume</th>\n",
       "      <th>Taker buy quote asset volume</th>\n",
       "      <th>Ignore</th>\n",
       "    </tr>\n",
       "  </thead>\n",
       "  <tbody>\n",
       "    <tr>\n",
       "      <th>0</th>\n",
       "      <td>1640995200000</td>\n",
       "      <td>46216.93</td>\n",
       "      <td>47954.63</td>\n",
       "      <td>46208.37</td>\n",
       "      <td>47722.65</td>\n",
       "      <td>19604.46325</td>\n",
       "      <td>2022-01-01 23:59:59.999</td>\n",
       "      <td>9.241552e+08</td>\n",
       "      <td>714899</td>\n",
       "      <td>9942.36679</td>\n",
       "      <td>4.687387e+08</td>\n",
       "      <td>0</td>\n",
       "    </tr>\n",
       "    <tr>\n",
       "      <th>1</th>\n",
       "      <td>1641081600000</td>\n",
       "      <td>47722.66</td>\n",
       "      <td>47990.00</td>\n",
       "      <td>46654.00</td>\n",
       "      <td>47286.18</td>\n",
       "      <td>18340.46040</td>\n",
       "      <td>2022-01-02 23:59:59.999</td>\n",
       "      <td>8.666110e+08</td>\n",
       "      <td>709624</td>\n",
       "      <td>9166.46954</td>\n",
       "      <td>4.331824e+08</td>\n",
       "      <td>0</td>\n",
       "    </tr>\n",
       "  </tbody>\n",
       "</table>\n",
       "</div>"
      ],
      "text/plain": [
       "       Open_time      open      high       low     close       volume  \\\n",
       "0  1640995200000  46216.93  47954.63  46208.37  47722.65  19604.46325   \n",
       "1  1641081600000  47722.66  47990.00  46654.00  47286.18  18340.46040   \n",
       "\n",
       "               Close_time  Quote asset volume  number of trades  \\\n",
       "0 2022-01-01 23:59:59.999        9.241552e+08            714899   \n",
       "1 2022-01-02 23:59:59.999        8.666110e+08            709624   \n",
       "\n",
       "   Taker buy base asset volume  Taker buy quote asset volume  Ignore  \n",
       "0                   9942.36679                  4.687387e+08       0  \n",
       "1                   9166.46954                  4.331824e+08       0  "
      ]
     },
     "execution_count": 3,
     "metadata": {},
     "output_type": "execute_result"
    }
   ],
   "source": [
    "client = Client(api_key)\n",
    "klines = client.get_historical_klines('BTCUSDT', Client.KLINE_INTERVAL_1DAY, '1 Jan, 2022','1 Jan, 2023',)\n",
    "df = pd.DataFrame(klines)\n",
    "df.columns = ['Open_time','open','high','low','close','volume','Close_time', 'Quote asset volume', 'number of trades', 'Taker buy base asset volume', 'Taker buy quote asset volume', 'Ignore']\n",
    "df = df.apply(pd.to_numeric, errors='ignore')\n",
    "df['Close_time'] = pd.to_datetime(df['Close_time'], unit='ms')\n",
    "df.head(2)"
   ]
  },
  {
   "cell_type": "markdown",
   "id": "5566aabf",
   "metadata": {},
   "source": [
    "# 2. Time series and data selected"
   ]
  },
  {
   "cell_type": "code",
   "execution_count": 4,
   "id": "60b3020b",
   "metadata": {},
   "outputs": [
    {
     "data": {
      "text/html": [
       "<div>\n",
       "<style scoped>\n",
       "    .dataframe tbody tr th:only-of-type {\n",
       "        vertical-align: middle;\n",
       "    }\n",
       "\n",
       "    .dataframe tbody tr th {\n",
       "        vertical-align: top;\n",
       "    }\n",
       "\n",
       "    .dataframe thead th {\n",
       "        text-align: right;\n",
       "    }\n",
       "</style>\n",
       "<table border=\"1\" class=\"dataframe\">\n",
       "  <thead>\n",
       "    <tr style=\"text-align: right;\">\n",
       "      <th></th>\n",
       "      <th>Close_time</th>\n",
       "      <th>open</th>\n",
       "      <th>high</th>\n",
       "      <th>low</th>\n",
       "      <th>close</th>\n",
       "      <th>volume</th>\n",
       "    </tr>\n",
       "    <tr>\n",
       "      <th>Close_time</th>\n",
       "      <th></th>\n",
       "      <th></th>\n",
       "      <th></th>\n",
       "      <th></th>\n",
       "      <th></th>\n",
       "      <th></th>\n",
       "    </tr>\n",
       "  </thead>\n",
       "  <tbody>\n",
       "    <tr>\n",
       "      <th>2022-01-01 23:59:59.999</th>\n",
       "      <td>2022-01-01 23:59:59.999</td>\n",
       "      <td>46216.93</td>\n",
       "      <td>47954.63</td>\n",
       "      <td>46208.37</td>\n",
       "      <td>47722.65</td>\n",
       "      <td>19604.46325</td>\n",
       "    </tr>\n",
       "    <tr>\n",
       "      <th>2022-01-02 23:59:59.999</th>\n",
       "      <td>2022-01-02 23:59:59.999</td>\n",
       "      <td>47722.66</td>\n",
       "      <td>47990.00</td>\n",
       "      <td>46654.00</td>\n",
       "      <td>47286.18</td>\n",
       "      <td>18340.46040</td>\n",
       "    </tr>\n",
       "  </tbody>\n",
       "</table>\n",
       "</div>"
      ],
      "text/plain": [
       "                                     Close_time      open      high       low  \\\n",
       "Close_time                                                                      \n",
       "2022-01-01 23:59:59.999 2022-01-01 23:59:59.999  46216.93  47954.63  46208.37   \n",
       "2022-01-02 23:59:59.999 2022-01-02 23:59:59.999  47722.66  47990.00  46654.00   \n",
       "\n",
       "                            close       volume  \n",
       "Close_time                                      \n",
       "2022-01-01 23:59:59.999  47722.65  19604.46325  \n",
       "2022-01-02 23:59:59.999  47286.18  18340.46040  "
      ]
     },
     "execution_count": 4,
     "metadata": {},
     "output_type": "execute_result"
    }
   ],
   "source": [
    "df = df[['Close_time','open','high','low','close','volume']]\n",
    "df.index=pd.to_datetime(df.Close_time)\n",
    "df.head(2)"
   ]
  },
  {
   "cell_type": "markdown",
   "id": "81473ad5",
   "metadata": {},
   "source": [
    "# 3. Return%"
   ]
  },
  {
   "cell_type": "code",
   "execution_count": 5,
   "id": "468ef91b",
   "metadata": {},
   "outputs": [
    {
     "data": {
      "text/html": [
       "<div>\n",
       "<style scoped>\n",
       "    .dataframe tbody tr th:only-of-type {\n",
       "        vertical-align: middle;\n",
       "    }\n",
       "\n",
       "    .dataframe tbody tr th {\n",
       "        vertical-align: top;\n",
       "    }\n",
       "\n",
       "    .dataframe thead th {\n",
       "        text-align: right;\n",
       "    }\n",
       "</style>\n",
       "<table border=\"1\" class=\"dataframe\">\n",
       "  <thead>\n",
       "    <tr style=\"text-align: right;\">\n",
       "      <th></th>\n",
       "      <th>Close_time</th>\n",
       "      <th>open</th>\n",
       "      <th>high</th>\n",
       "      <th>low</th>\n",
       "      <th>close</th>\n",
       "      <th>volume</th>\n",
       "      <th>B%</th>\n",
       "    </tr>\n",
       "    <tr>\n",
       "      <th>Close_time</th>\n",
       "      <th></th>\n",
       "      <th></th>\n",
       "      <th></th>\n",
       "      <th></th>\n",
       "      <th></th>\n",
       "      <th></th>\n",
       "      <th></th>\n",
       "    </tr>\n",
       "  </thead>\n",
       "  <tbody>\n",
       "    <tr>\n",
       "      <th>2022-01-02 23:59:59.999</th>\n",
       "      <td>2022-01-02 23:59:59.999</td>\n",
       "      <td>47722.66</td>\n",
       "      <td>47990.0</td>\n",
       "      <td>46654.0</td>\n",
       "      <td>47286.18</td>\n",
       "      <td>18340.4604</td>\n",
       "      <td>-0.009146</td>\n",
       "    </tr>\n",
       "    <tr>\n",
       "      <th>2022-01-03 23:59:59.999</th>\n",
       "      <td>2022-01-03 23:59:59.999</td>\n",
       "      <td>47286.18</td>\n",
       "      <td>47570.0</td>\n",
       "      <td>45696.0</td>\n",
       "      <td>46446.10</td>\n",
       "      <td>27662.0771</td>\n",
       "      <td>-0.017766</td>\n",
       "    </tr>\n",
       "  </tbody>\n",
       "</table>\n",
       "</div>"
      ],
      "text/plain": [
       "                                     Close_time      open     high      low  \\\n",
       "Close_time                                                                    \n",
       "2022-01-02 23:59:59.999 2022-01-02 23:59:59.999  47722.66  47990.0  46654.0   \n",
       "2022-01-03 23:59:59.999 2022-01-03 23:59:59.999  47286.18  47570.0  45696.0   \n",
       "\n",
       "                            close      volume        B%  \n",
       "Close_time                                               \n",
       "2022-01-02 23:59:59.999  47286.18  18340.4604 -0.009146  \n",
       "2022-01-03 23:59:59.999  46446.10  27662.0771 -0.017766  "
      ]
     },
     "execution_count": 5,
     "metadata": {},
     "output_type": "execute_result"
    }
   ],
   "source": [
    "df['B%']=(df['close']-df['close'].shift(1))/df['close'].shift(1)\n",
    "df = df.dropna()\n",
    "df.head(2)"
   ]
  },
  {
   "cell_type": "code",
   "execution_count": 6,
   "id": "70fe4bd3",
   "metadata": {},
   "outputs": [
    {
     "data": {
      "text/html": [
       "<div>\n",
       "<style scoped>\n",
       "    .dataframe tbody tr th:only-of-type {\n",
       "        vertical-align: middle;\n",
       "    }\n",
       "\n",
       "    .dataframe tbody tr th {\n",
       "        vertical-align: top;\n",
       "    }\n",
       "\n",
       "    .dataframe thead th {\n",
       "        text-align: right;\n",
       "    }\n",
       "</style>\n",
       "<table border=\"1\" class=\"dataframe\">\n",
       "  <thead>\n",
       "    <tr style=\"text-align: right;\">\n",
       "      <th></th>\n",
       "      <th>Close_time</th>\n",
       "      <th>open</th>\n",
       "      <th>high</th>\n",
       "      <th>low</th>\n",
       "      <th>close</th>\n",
       "      <th>volume</th>\n",
       "      <th>B%</th>\n",
       "    </tr>\n",
       "    <tr>\n",
       "      <th>Date</th>\n",
       "      <th></th>\n",
       "      <th></th>\n",
       "      <th></th>\n",
       "      <th></th>\n",
       "      <th></th>\n",
       "      <th></th>\n",
       "      <th></th>\n",
       "    </tr>\n",
       "  </thead>\n",
       "  <tbody>\n",
       "    <tr>\n",
       "      <th>2022-01-02</th>\n",
       "      <td>2022-01-02 23:59:59.999</td>\n",
       "      <td>47722.66</td>\n",
       "      <td>47990.00</td>\n",
       "      <td>46654.00</td>\n",
       "      <td>47286.18</td>\n",
       "      <td>18340.46040</td>\n",
       "      <td>-0.009146</td>\n",
       "    </tr>\n",
       "    <tr>\n",
       "      <th>2022-01-03</th>\n",
       "      <td>2022-01-03 23:59:59.999</td>\n",
       "      <td>47286.18</td>\n",
       "      <td>47570.00</td>\n",
       "      <td>45696.00</td>\n",
       "      <td>46446.10</td>\n",
       "      <td>27662.07710</td>\n",
       "      <td>-0.017766</td>\n",
       "    </tr>\n",
       "    <tr>\n",
       "      <th>2022-01-04</th>\n",
       "      <td>2022-01-04 23:59:59.999</td>\n",
       "      <td>46446.10</td>\n",
       "      <td>47557.54</td>\n",
       "      <td>45500.00</td>\n",
       "      <td>45832.01</td>\n",
       "      <td>35491.41360</td>\n",
       "      <td>-0.013222</td>\n",
       "    </tr>\n",
       "    <tr>\n",
       "      <th>2022-01-05</th>\n",
       "      <td>2022-01-05 23:59:59.999</td>\n",
       "      <td>45832.01</td>\n",
       "      <td>47070.00</td>\n",
       "      <td>42500.00</td>\n",
       "      <td>43451.13</td>\n",
       "      <td>51784.11857</td>\n",
       "      <td>-0.051948</td>\n",
       "    </tr>\n",
       "    <tr>\n",
       "      <th>2022-01-06</th>\n",
       "      <td>2022-01-06 23:59:59.999</td>\n",
       "      <td>43451.14</td>\n",
       "      <td>43816.00</td>\n",
       "      <td>42430.58</td>\n",
       "      <td>43082.31</td>\n",
       "      <td>38880.37305</td>\n",
       "      <td>-0.008488</td>\n",
       "    </tr>\n",
       "  </tbody>\n",
       "</table>\n",
       "</div>"
      ],
      "text/plain": [
       "                        Close_time      open      high       low     close  \\\n",
       "Date                                                                         \n",
       "2022-01-02 2022-01-02 23:59:59.999  47722.66  47990.00  46654.00  47286.18   \n",
       "2022-01-03 2022-01-03 23:59:59.999  47286.18  47570.00  45696.00  46446.10   \n",
       "2022-01-04 2022-01-04 23:59:59.999  46446.10  47557.54  45500.00  45832.01   \n",
       "2022-01-05 2022-01-05 23:59:59.999  45832.01  47070.00  42500.00  43451.13   \n",
       "2022-01-06 2022-01-06 23:59:59.999  43451.14  43816.00  42430.58  43082.31   \n",
       "\n",
       "                 volume        B%  \n",
       "Date                               \n",
       "2022-01-02  18340.46040 -0.009146  \n",
       "2022-01-03  27662.07710 -0.017766  \n",
       "2022-01-04  35491.41360 -0.013222  \n",
       "2022-01-05  51784.11857 -0.051948  \n",
       "2022-01-06  38880.37305 -0.008488  "
      ]
     },
     "execution_count": 6,
     "metadata": {},
     "output_type": "execute_result"
    }
   ],
   "source": [
    "#資料處理：time series型態變更+index更名\n",
    "df.index = df.index.date\n",
    "df.index.rename('Date', inplace=True)\n",
    "df.head()"
   ]
  },
  {
   "cell_type": "code",
   "execution_count": null,
   "id": "ab5eb22f",
   "metadata": {},
   "outputs": [],
   "source": []
  },
  {
   "cell_type": "markdown",
   "id": "6ba3bc0c",
   "metadata": {},
   "source": [
    "# 4. Draw unmeaning graph"
   ]
  },
  {
   "cell_type": "code",
   "execution_count": 7,
   "id": "f903dd72",
   "metadata": {},
   "outputs": [],
   "source": [
    "#pip install mplfinance"
   ]
  },
  {
   "cell_type": "markdown",
   "id": "da152aee",
   "metadata": {},
   "source": [
    "import mplfinance as mpf\n",
    "mpf_style = 'yahoo'\n",
    "ylabel = 'Price'\n",
    "mpf.plot(df, type='candle', style=mpf_style, title=\"BTCUSDT (unmeaning)\", ylabel=ylabel, figsize=(10,5))"
   ]
  },
  {
   "cell_type": "markdown",
   "id": "bae749e7",
   "metadata": {},
   "source": [
    "# 5. Market data"
   ]
  },
  {
   "cell_type": "code",
   "execution_count": 8,
   "id": "d7679f5a",
   "metadata": {},
   "outputs": [],
   "source": [
    "#!pip install yfinance"
   ]
  },
  {
   "cell_type": "code",
   "execution_count": 9,
   "id": "1cbe5105",
   "metadata": {},
   "outputs": [
    {
     "name": "stderr",
     "output_type": "stream",
     "text": [
      "[*********************100%%**********************]  1 of 1 completed\n"
     ]
    },
    {
     "data": {
      "text/html": [
       "<div>\n",
       "<style scoped>\n",
       "    .dataframe tbody tr th:only-of-type {\n",
       "        vertical-align: middle;\n",
       "    }\n",
       "\n",
       "    .dataframe tbody tr th {\n",
       "        vertical-align: top;\n",
       "    }\n",
       "\n",
       "    .dataframe thead th {\n",
       "        text-align: right;\n",
       "    }\n",
       "</style>\n",
       "<table border=\"1\" class=\"dataframe\">\n",
       "  <thead>\n",
       "    <tr style=\"text-align: right;\">\n",
       "      <th></th>\n",
       "      <th>Close</th>\n",
       "    </tr>\n",
       "    <tr>\n",
       "      <th>Date</th>\n",
       "      <th></th>\n",
       "    </tr>\n",
       "  </thead>\n",
       "  <tbody>\n",
       "    <tr>\n",
       "      <th>2022-01-03</th>\n",
       "      <td>18270.509766</td>\n",
       "    </tr>\n",
       "    <tr>\n",
       "      <th>2022-01-04</th>\n",
       "      <td>18526.349609</td>\n",
       "    </tr>\n",
       "  </tbody>\n",
       "</table>\n",
       "</div>"
      ],
      "text/plain": [
       "                   Close\n",
       "Date                    \n",
       "2022-01-03  18270.509766\n",
       "2022-01-04  18526.349609"
      ]
     },
     "execution_count": 9,
     "metadata": {},
     "output_type": "execute_result"
    }
   ],
   "source": [
    "import yfinance as yf\n",
    "mkt = yf.download('^TWII', start='2022-01-01', end='2023-01-01')\n",
    "mkt = mkt[['Close']]\n",
    "mkt.head(2)"
   ]
  },
  {
   "cell_type": "code",
   "execution_count": 10,
   "id": "3647a8d6",
   "metadata": {},
   "outputs": [
    {
     "name": "stderr",
     "output_type": "stream",
     "text": [
      "<ipython-input-10-9665070cb75a>:1: SettingWithCopyWarning: \n",
      "A value is trying to be set on a copy of a slice from a DataFrame.\n",
      "Try using .loc[row_indexer,col_indexer] = value instead\n",
      "\n",
      "See the caveats in the documentation: https://pandas.pydata.org/pandas-docs/stable/user_guide/indexing.html#returning-a-view-versus-a-copy\n",
      "  mkt['M%']=(mkt['Close']-mkt['Close'].shift(1))/mkt['Close'].shift(1)\n"
     ]
    },
    {
     "data": {
      "text/html": [
       "<div>\n",
       "<style scoped>\n",
       "    .dataframe tbody tr th:only-of-type {\n",
       "        vertical-align: middle;\n",
       "    }\n",
       "\n",
       "    .dataframe tbody tr th {\n",
       "        vertical-align: top;\n",
       "    }\n",
       "\n",
       "    .dataframe thead th {\n",
       "        text-align: right;\n",
       "    }\n",
       "</style>\n",
       "<table border=\"1\" class=\"dataframe\">\n",
       "  <thead>\n",
       "    <tr style=\"text-align: right;\">\n",
       "      <th></th>\n",
       "      <th>Close</th>\n",
       "      <th>M%</th>\n",
       "    </tr>\n",
       "    <tr>\n",
       "      <th>Date</th>\n",
       "      <th></th>\n",
       "      <th></th>\n",
       "    </tr>\n",
       "  </thead>\n",
       "  <tbody>\n",
       "    <tr>\n",
       "      <th>2022-01-04</th>\n",
       "      <td>18526.349609</td>\n",
       "      <td>0.014003</td>\n",
       "    </tr>\n",
       "    <tr>\n",
       "      <th>2022-01-05</th>\n",
       "      <td>18499.960938</td>\n",
       "      <td>-0.001424</td>\n",
       "    </tr>\n",
       "  </tbody>\n",
       "</table>\n",
       "</div>"
      ],
      "text/plain": [
       "                   Close        M%\n",
       "Date                              \n",
       "2022-01-04  18526.349609  0.014003\n",
       "2022-01-05  18499.960938 -0.001424"
      ]
     },
     "execution_count": 10,
     "metadata": {},
     "output_type": "execute_result"
    }
   ],
   "source": [
    "mkt['M%']=(mkt['Close']-mkt['Close'].shift(1))/mkt['Close'].shift(1)\n",
    "mkt = mkt.dropna()\n",
    "mkt.head(2)"
   ]
  },
  {
   "cell_type": "code",
   "execution_count": 11,
   "id": "c3c5b551",
   "metadata": {},
   "outputs": [
    {
     "data": {
      "text/html": [
       "<div>\n",
       "<style scoped>\n",
       "    .dataframe tbody tr th:only-of-type {\n",
       "        vertical-align: middle;\n",
       "    }\n",
       "\n",
       "    .dataframe tbody tr th {\n",
       "        vertical-align: top;\n",
       "    }\n",
       "\n",
       "    .dataframe thead th {\n",
       "        text-align: right;\n",
       "    }\n",
       "</style>\n",
       "<table border=\"1\" class=\"dataframe\">\n",
       "  <thead>\n",
       "    <tr style=\"text-align: right;\">\n",
       "      <th></th>\n",
       "      <th>Close</th>\n",
       "      <th>M%</th>\n",
       "    </tr>\n",
       "    <tr>\n",
       "      <th>Date</th>\n",
       "      <th></th>\n",
       "      <th></th>\n",
       "    </tr>\n",
       "  </thead>\n",
       "  <tbody>\n",
       "    <tr>\n",
       "      <th>2022-01-04</th>\n",
       "      <td>18526.349609</td>\n",
       "      <td>0.014003</td>\n",
       "    </tr>\n",
       "    <tr>\n",
       "      <th>2022-01-05</th>\n",
       "      <td>18499.960938</td>\n",
       "      <td>-0.001424</td>\n",
       "    </tr>\n",
       "    <tr>\n",
       "      <th>2022-01-06</th>\n",
       "      <td>18367.919922</td>\n",
       "      <td>-0.007137</td>\n",
       "    </tr>\n",
       "    <tr>\n",
       "      <th>2022-01-07</th>\n",
       "      <td>18169.759766</td>\n",
       "      <td>-0.010788</td>\n",
       "    </tr>\n",
       "    <tr>\n",
       "      <th>2022-01-10</th>\n",
       "      <td>18239.380859</td>\n",
       "      <td>0.003832</td>\n",
       "    </tr>\n",
       "  </tbody>\n",
       "</table>\n",
       "</div>"
      ],
      "text/plain": [
       "                   Close        M%\n",
       "Date                              \n",
       "2022-01-04  18526.349609  0.014003\n",
       "2022-01-05  18499.960938 -0.001424\n",
       "2022-01-06  18367.919922 -0.007137\n",
       "2022-01-07  18169.759766 -0.010788\n",
       "2022-01-10  18239.380859  0.003832"
      ]
     },
     "execution_count": 11,
     "metadata": {},
     "output_type": "execute_result"
    }
   ],
   "source": [
    "#資料處理：time series型態變更+index更名\n",
    "mkt.index = mkt.index.date\n",
    "mkt.index.rename('Date', inplace=True)\n",
    "mkt.head()"
   ]
  },
  {
   "cell_type": "markdown",
   "id": "cec1ab1c",
   "metadata": {},
   "source": [
    "# 6. Merge"
   ]
  },
  {
   "cell_type": "code",
   "execution_count": 12,
   "id": "1fa1b12a",
   "metadata": {},
   "outputs": [
    {
     "data": {
      "text/html": [
       "<div>\n",
       "<style scoped>\n",
       "    .dataframe tbody tr th:only-of-type {\n",
       "        vertical-align: middle;\n",
       "    }\n",
       "\n",
       "    .dataframe tbody tr th {\n",
       "        vertical-align: top;\n",
       "    }\n",
       "\n",
       "    .dataframe thead th {\n",
       "        text-align: right;\n",
       "    }\n",
       "</style>\n",
       "<table border=\"1\" class=\"dataframe\">\n",
       "  <thead>\n",
       "    <tr style=\"text-align: right;\">\n",
       "      <th></th>\n",
       "      <th>Close_time</th>\n",
       "      <th>open</th>\n",
       "      <th>high</th>\n",
       "      <th>low</th>\n",
       "      <th>close</th>\n",
       "      <th>volume</th>\n",
       "      <th>B%</th>\n",
       "      <th>Close</th>\n",
       "      <th>M%</th>\n",
       "    </tr>\n",
       "    <tr>\n",
       "      <th>Date</th>\n",
       "      <th></th>\n",
       "      <th></th>\n",
       "      <th></th>\n",
       "      <th></th>\n",
       "      <th></th>\n",
       "      <th></th>\n",
       "      <th></th>\n",
       "      <th></th>\n",
       "      <th></th>\n",
       "    </tr>\n",
       "  </thead>\n",
       "  <tbody>\n",
       "    <tr>\n",
       "      <th>2022-01-04</th>\n",
       "      <td>2022-01-04 23:59:59.999</td>\n",
       "      <td>46446.10</td>\n",
       "      <td>47557.54</td>\n",
       "      <td>45500.00</td>\n",
       "      <td>45832.01</td>\n",
       "      <td>35491.41360</td>\n",
       "      <td>-0.013222</td>\n",
       "      <td>18526.349609</td>\n",
       "      <td>0.014003</td>\n",
       "    </tr>\n",
       "    <tr>\n",
       "      <th>2022-01-05</th>\n",
       "      <td>2022-01-05 23:59:59.999</td>\n",
       "      <td>45832.01</td>\n",
       "      <td>47070.00</td>\n",
       "      <td>42500.00</td>\n",
       "      <td>43451.13</td>\n",
       "      <td>51784.11857</td>\n",
       "      <td>-0.051948</td>\n",
       "      <td>18499.960938</td>\n",
       "      <td>-0.001424</td>\n",
       "    </tr>\n",
       "    <tr>\n",
       "      <th>2022-01-06</th>\n",
       "      <td>2022-01-06 23:59:59.999</td>\n",
       "      <td>43451.14</td>\n",
       "      <td>43816.00</td>\n",
       "      <td>42430.58</td>\n",
       "      <td>43082.31</td>\n",
       "      <td>38880.37305</td>\n",
       "      <td>-0.008488</td>\n",
       "      <td>18367.919922</td>\n",
       "      <td>-0.007137</td>\n",
       "    </tr>\n",
       "    <tr>\n",
       "      <th>2022-01-07</th>\n",
       "      <td>2022-01-07 23:59:59.999</td>\n",
       "      <td>43082.30</td>\n",
       "      <td>43145.83</td>\n",
       "      <td>40610.00</td>\n",
       "      <td>41566.48</td>\n",
       "      <td>54836.50818</td>\n",
       "      <td>-0.035185</td>\n",
       "      <td>18169.759766</td>\n",
       "      <td>-0.010788</td>\n",
       "    </tr>\n",
       "    <tr>\n",
       "      <th>2022-01-10</th>\n",
       "      <td>2022-01-10 23:59:59.999</td>\n",
       "      <td>41864.62</td>\n",
       "      <td>42248.50</td>\n",
       "      <td>39650.00</td>\n",
       "      <td>41822.49</td>\n",
       "      <td>50729.17019</td>\n",
       "      <td>-0.001006</td>\n",
       "      <td>18239.380859</td>\n",
       "      <td>0.003832</td>\n",
       "    </tr>\n",
       "    <tr>\n",
       "      <th>2022-01-11</th>\n",
       "      <td>2022-01-11 23:59:59.999</td>\n",
       "      <td>41822.49</td>\n",
       "      <td>43100.00</td>\n",
       "      <td>41268.93</td>\n",
       "      <td>42729.29</td>\n",
       "      <td>37296.43729</td>\n",
       "      <td>0.021682</td>\n",
       "      <td>18288.210938</td>\n",
       "      <td>0.002677</td>\n",
       "    </tr>\n",
       "    <tr>\n",
       "      <th>2022-01-12</th>\n",
       "      <td>2022-01-12 23:59:59.999</td>\n",
       "      <td>42729.29</td>\n",
       "      <td>44322.00</td>\n",
       "      <td>42450.00</td>\n",
       "      <td>43902.66</td>\n",
       "      <td>33943.29280</td>\n",
       "      <td>0.027461</td>\n",
       "      <td>18375.400391</td>\n",
       "      <td>0.004768</td>\n",
       "    </tr>\n",
       "    <tr>\n",
       "      <th>2022-01-13</th>\n",
       "      <td>2022-01-13 23:59:59.999</td>\n",
       "      <td>43902.65</td>\n",
       "      <td>44500.00</td>\n",
       "      <td>42311.22</td>\n",
       "      <td>42560.11</td>\n",
       "      <td>34910.87762</td>\n",
       "      <td>-0.030580</td>\n",
       "      <td>18436.929688</td>\n",
       "      <td>0.003348</td>\n",
       "    </tr>\n",
       "    <tr>\n",
       "      <th>2022-01-14</th>\n",
       "      <td>2022-01-14 23:59:59.999</td>\n",
       "      <td>42558.35</td>\n",
       "      <td>43448.78</td>\n",
       "      <td>41725.95</td>\n",
       "      <td>43059.96</td>\n",
       "      <td>32640.88292</td>\n",
       "      <td>0.011745</td>\n",
       "      <td>18403.330078</td>\n",
       "      <td>-0.001822</td>\n",
       "    </tr>\n",
       "    <tr>\n",
       "      <th>2022-01-17</th>\n",
       "      <td>2022-01-17 23:59:59.999</td>\n",
       "      <td>43071.66</td>\n",
       "      <td>43176.18</td>\n",
       "      <td>41540.42</td>\n",
       "      <td>42201.62</td>\n",
       "      <td>27562.08613</td>\n",
       "      <td>-0.020200</td>\n",
       "      <td>18525.439453</td>\n",
       "      <td>0.006635</td>\n",
       "    </tr>\n",
       "  </tbody>\n",
       "</table>\n",
       "</div>"
      ],
      "text/plain": [
       "                        Close_time      open      high       low     close  \\\n",
       "Date                                                                         \n",
       "2022-01-04 2022-01-04 23:59:59.999  46446.10  47557.54  45500.00  45832.01   \n",
       "2022-01-05 2022-01-05 23:59:59.999  45832.01  47070.00  42500.00  43451.13   \n",
       "2022-01-06 2022-01-06 23:59:59.999  43451.14  43816.00  42430.58  43082.31   \n",
       "2022-01-07 2022-01-07 23:59:59.999  43082.30  43145.83  40610.00  41566.48   \n",
       "2022-01-10 2022-01-10 23:59:59.999  41864.62  42248.50  39650.00  41822.49   \n",
       "2022-01-11 2022-01-11 23:59:59.999  41822.49  43100.00  41268.93  42729.29   \n",
       "2022-01-12 2022-01-12 23:59:59.999  42729.29  44322.00  42450.00  43902.66   \n",
       "2022-01-13 2022-01-13 23:59:59.999  43902.65  44500.00  42311.22  42560.11   \n",
       "2022-01-14 2022-01-14 23:59:59.999  42558.35  43448.78  41725.95  43059.96   \n",
       "2022-01-17 2022-01-17 23:59:59.999  43071.66  43176.18  41540.42  42201.62   \n",
       "\n",
       "                 volume        B%         Close        M%  \n",
       "Date                                                       \n",
       "2022-01-04  35491.41360 -0.013222  18526.349609  0.014003  \n",
       "2022-01-05  51784.11857 -0.051948  18499.960938 -0.001424  \n",
       "2022-01-06  38880.37305 -0.008488  18367.919922 -0.007137  \n",
       "2022-01-07  54836.50818 -0.035185  18169.759766 -0.010788  \n",
       "2022-01-10  50729.17019 -0.001006  18239.380859  0.003832  \n",
       "2022-01-11  37296.43729  0.021682  18288.210938  0.002677  \n",
       "2022-01-12  33943.29280  0.027461  18375.400391  0.004768  \n",
       "2022-01-13  34910.87762 -0.030580  18436.929688  0.003348  \n",
       "2022-01-14  32640.88292  0.011745  18403.330078 -0.001822  \n",
       "2022-01-17  27562.08613 -0.020200  18525.439453  0.006635  "
      ]
     },
     "execution_count": 12,
     "metadata": {},
     "output_type": "execute_result"
    }
   ],
   "source": [
    "Mgdf = df\n",
    "for x in [mkt]:\n",
    "    Mgdf = Mgdf.merge(x,  on=['Date'], how='inner')\n",
    "Mgdf.head(10)"
   ]
  },
  {
   "cell_type": "code",
   "execution_count": 13,
   "id": "1399f50a",
   "metadata": {},
   "outputs": [],
   "source": [
    "#NAME.to_excel(\"BTC.xlsx\")"
   ]
  },
  {
   "cell_type": "code",
   "execution_count": 14,
   "id": "d2687bd7",
   "metadata": {},
   "outputs": [
    {
     "name": "stdout",
     "output_type": "stream",
     "text": [
      "365\n",
      "245\n",
      "245\n"
     ]
    }
   ],
   "source": [
    "print(len(df))\n",
    "print(len(mkt))\n",
    "print(len(Mgdf))"
   ]
  },
  {
   "cell_type": "markdown",
   "id": "e84429ef",
   "metadata": {},
   "source": [
    "# 7. Regression"
   ]
  },
  {
   "cell_type": "code",
   "execution_count": 27,
   "id": "7c785e7b",
   "metadata": {},
   "outputs": [],
   "source": [
    "from sklearn import linear_model\n",
    "from sklearn.feature_selection import f_regression\n",
    "import matplotlib.pyplot as plt"
   ]
  },
  {
   "cell_type": "code",
   "execution_count": 32,
   "id": "18eed80b",
   "metadata": {},
   "outputs": [
    {
     "data": {
      "image/png": "[encoded data removed]",
      "text/plain": [
       "<Figure size 432x288 with 1 Axes>"
      ]
     },
     "metadata": {
      "needs_background": "light"
     },
     "output_type": "display_data"
    }
   ],
   "source": [
    "X=Mgdf['B%']\n",
    "Y=Mgdf['M%']\n",
    "X=np.array(X).reshape(len(X),1)                  # reshape：資料呈現矩陣m*n(此處可能無影響)\n",
    "Y=np.array(Y)\n",
    "model=linear_model.LinearRegression()\n",
    "model.fit(X, Y)\n",
    "plt.scatter(X, Y, color='red')\n",
    "plt.xlabel('BTC_close%',fontsize=15)\n",
    "plt.ylabel('Market_close%',fontsize=15)\n",
    "plt.plot(X, model.predict(X),color='green',linewidth=2)     \n",
    "plt.show()"
   ]
  },
  {
   "cell_type": "code",
   "execution_count": 33,
   "id": "cd02c0e5",
   "metadata": {},
   "outputs": [
    {
     "name": "stdout",
     "output_type": "stream",
     "text": [
      "-0.0009096864665817181\n",
      "[0.01580206]\n",
      "[0.48815326]\n",
      "0.0019798646632332995\n"
     ]
    }
   ],
   "source": [
    "print(model.intercept_)            #截距\n",
    "print(model.coef_)                    #beta\n",
    "print(f_regression(X, Y)[1])     #p-value\n",
    "\n",
    "r_squared = model.score(X, Y) \n",
    "print(r_squared)                        #R-Square"
   ]
  },
  {
   "cell_type": "code",
   "execution_count": null,
   "id": "7c0d4b47",
   "metadata": {},
   "outputs": [],
   "source": []
  }
 ],
 "metadata": {
  "kernelspec": {
   "display_name": "Python 3",
   "language": "python",
   "name": "python3"
  },
  "language_info": {
   "codemirror_mode": {
    "name": "ipython",
    "version": 3
   },
   "file_extension": ".py",
   "mimetype": "text/x-python",
   "name": "python",
   "nbconvert_exporter": "python",
   "pygments_lexer": "ipython3",
   "version": "3.8.8"
  }
 },
 "nbformat": 4,
 "nbformat_minor": 5
}
