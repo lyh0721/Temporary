{
 "cells": [
  {
   "cell_type": "code",
   "execution_count": 23,
   "id": "cfdb4b5a",
   "metadata": {},
   "outputs": [],
   "source": [
    "import seaborn as sns \n",
    "import matplotlib.pyplot as plt \n",
    "import pandas as pd \n",
    "import os\n",
    "os.chdir('C:\\\\Users\\\\user\\\\OneDrive - mail.shu.edu.tw\\\\桌面\\\\Financial Topic\\\\PY')"
   ]
  },
  {
   "cell_type": "code",
   "execution_count": 24,
   "id": "f12bc24d",
   "metadata": {},
   "outputs": [],
   "source": [
    "df1 = pd.read_excel(\"1WTI.xlsx\")\n",
    "df2 = pd.read_excel(\"2CRB.xlsx\")\n",
    "df3 = pd.read_excel(\"3GPR.xlsx\")\n",
    "df4 = pd.read_excel(\"4STOCK.xlsx\")"
   ]
  },
  {
   "cell_type": "markdown",
   "id": "d6ceb291",
   "metadata": {},
   "source": [
    "## 1. 合併資料"
   ]
  },
  {
   "cell_type": "code",
   "execution_count": 25,
   "id": "c3ccca4c",
   "metadata": {},
   "outputs": [
    {
     "data": {
      "text/html": [
       "<div>\n",
       "<style scoped>\n",
       "    .dataframe tbody tr th:only-of-type {\n",
       "        vertical-align: middle;\n",
       "    }\n",
       "\n",
       "    .dataframe tbody tr th {\n",
       "        vertical-align: top;\n",
       "    }\n",
       "\n",
       "    .dataframe thead th {\n",
       "        text-align: right;\n",
       "    }\n",
       "</style>\n",
       "<table border=\"1\" class=\"dataframe\">\n",
       "  <thead>\n",
       "    <tr style=\"text-align: right;\">\n",
       "      <th></th>\n",
       "      <th>DATE</th>\n",
       "      <th>WTI</th>\n",
       "      <th>CRB</th>\n",
       "      <th>GPR</th>\n",
       "      <th>STOCK</th>\n",
       "    </tr>\n",
       "  </thead>\n",
       "  <tbody>\n",
       "    <tr>\n",
       "      <th>0</th>\n",
       "      <td>2020-01-03</td>\n",
       "      <td>62.97</td>\n",
       "      <td>197.84</td>\n",
       "      <td>80.794334</td>\n",
       "      <td>431.06</td>\n",
       "    </tr>\n",
       "    <tr>\n",
       "      <th>1</th>\n",
       "      <td>2020-01-10</td>\n",
       "      <td>58.99</td>\n",
       "      <td>194.97</td>\n",
       "      <td>167.301392</td>\n",
       "      <td>428.51</td>\n",
       "    </tr>\n",
       "    <tr>\n",
       "      <th>2</th>\n",
       "      <td>2020-01-17</td>\n",
       "      <td>58.55</td>\n",
       "      <td>193.71</td>\n",
       "      <td>129.822495</td>\n",
       "      <td>428.11</td>\n",
       "    </tr>\n",
       "  </tbody>\n",
       "</table>\n",
       "</div>"
      ],
      "text/plain": [
       "        DATE    WTI     CRB         GPR   STOCK\n",
       "0 2020-01-03  62.97  197.84   80.794334  431.06\n",
       "1 2020-01-10  58.99  194.97  167.301392  428.51\n",
       "2 2020-01-17  58.55  193.71  129.822495  428.11"
      ]
     },
     "execution_count": 25,
     "metadata": {},
     "output_type": "execute_result"
    }
   ],
   "source": [
    "Mgdf = df1\n",
    "for df in [df2, df3, df4]:\n",
    "    Mgdf = Mgdf.merge(df,  on=['DATE'], how='inner')  #原始=outer\n",
    "Mgdf.head(3)"
   ]
  },
  {
   "cell_type": "code",
   "execution_count": 26,
   "id": "08e87612",
   "metadata": {},
   "outputs": [
    {
     "data": {
      "text/plain": [
       "189"
      ]
     },
     "execution_count": 26,
     "metadata": {},
     "output_type": "execute_result"
    }
   ],
   "source": [
    "Mgdf = Mgdf.replace(to_replace=['#DIV/0! ', '#NUM!'], value='', regex=True)\n",
    "Mgdf.dropna(inplace=True)\n",
    "Mgdf.to_excel('test0418.xlsx', index=False)\n",
    "len(Mgdf)"
   ]
  },
  {
   "cell_type": "code",
   "execution_count": 27,
   "id": "2405bac9",
   "metadata": {},
   "outputs": [
    {
     "data": {
      "text/html": [
       "<div>\n",
       "<style scoped>\n",
       "    .dataframe tbody tr th:only-of-type {\n",
       "        vertical-align: middle;\n",
       "    }\n",
       "\n",
       "    .dataframe tbody tr th {\n",
       "        vertical-align: top;\n",
       "    }\n",
       "\n",
       "    .dataframe thead th {\n",
       "        text-align: right;\n",
       "    }\n",
       "</style>\n",
       "<table border=\"1\" class=\"dataframe\">\n",
       "  <thead>\n",
       "    <tr style=\"text-align: right;\">\n",
       "      <th></th>\n",
       "      <th>DATE</th>\n",
       "      <th>WTI</th>\n",
       "      <th>CRB</th>\n",
       "      <th>GPR</th>\n",
       "      <th>STOCK</th>\n",
       "    </tr>\n",
       "  </thead>\n",
       "  <tbody>\n",
       "    <tr>\n",
       "      <th>0</th>\n",
       "      <td>2020-01-03</td>\n",
       "      <td>62.97</td>\n",
       "      <td>197.84</td>\n",
       "      <td>80.794334</td>\n",
       "      <td>431.060</td>\n",
       "    </tr>\n",
       "    <tr>\n",
       "      <th>1</th>\n",
       "      <td>2020-01-10</td>\n",
       "      <td>58.99</td>\n",
       "      <td>194.97</td>\n",
       "      <td>167.301392</td>\n",
       "      <td>428.510</td>\n",
       "    </tr>\n",
       "    <tr>\n",
       "      <th>2</th>\n",
       "      <td>2020-01-17</td>\n",
       "      <td>58.55</td>\n",
       "      <td>193.71</td>\n",
       "      <td>129.822495</td>\n",
       "      <td>428.110</td>\n",
       "    </tr>\n",
       "    <tr>\n",
       "      <th>3</th>\n",
       "      <td>2020-01-31</td>\n",
       "      <td>51.53</td>\n",
       "      <td>180.49</td>\n",
       "      <td>73.977936</td>\n",
       "      <td>435.010</td>\n",
       "    </tr>\n",
       "    <tr>\n",
       "      <th>4</th>\n",
       "      <td>2020-02-07</td>\n",
       "      <td>50.29</td>\n",
       "      <td>180.35</td>\n",
       "      <td>78.964661</td>\n",
       "      <td>442.470</td>\n",
       "    </tr>\n",
       "    <tr>\n",
       "      <th>...</th>\n",
       "      <td>...</td>\n",
       "      <td>...</td>\n",
       "      <td>...</td>\n",
       "      <td>...</td>\n",
       "      <td>...</td>\n",
       "    </tr>\n",
       "    <tr>\n",
       "      <th>204</th>\n",
       "      <td>2024-02-23</td>\n",
       "      <td>79.64</td>\n",
       "      <td>311.94</td>\n",
       "      <td>167.068634</td>\n",
       "      <td>447.163</td>\n",
       "    </tr>\n",
       "    <tr>\n",
       "      <th>205</th>\n",
       "      <td>2024-03-01</td>\n",
       "      <td>79.22</td>\n",
       "      <td>319.51</td>\n",
       "      <td>161.151947</td>\n",
       "      <td>448.530</td>\n",
       "    </tr>\n",
       "    <tr>\n",
       "      <th>206</th>\n",
       "      <td>2024-03-08</td>\n",
       "      <td>79.81</td>\n",
       "      <td>319.25</td>\n",
       "      <td>178.454819</td>\n",
       "      <td>446.994</td>\n",
       "    </tr>\n",
       "    <tr>\n",
       "      <th>207</th>\n",
       "      <td>2024-03-15</td>\n",
       "      <td>82.16</td>\n",
       "      <td>328.85</td>\n",
       "      <td>138.023651</td>\n",
       "      <td>445.042</td>\n",
       "    </tr>\n",
       "    <tr>\n",
       "      <th>208</th>\n",
       "      <td>2024-03-22</td>\n",
       "      <td>81.99</td>\n",
       "      <td>330.50</td>\n",
       "      <td>138.285553</td>\n",
       "      <td>448.207</td>\n",
       "    </tr>\n",
       "  </tbody>\n",
       "</table>\n",
       "<p>189 rows × 5 columns</p>\n",
       "</div>"
      ],
      "text/plain": [
       "          DATE    WTI     CRB         GPR    STOCK\n",
       "0   2020-01-03  62.97  197.84   80.794334  431.060\n",
       "1   2020-01-10  58.99  194.97  167.301392  428.510\n",
       "2   2020-01-17  58.55  193.71  129.822495  428.110\n",
       "3   2020-01-31  51.53  180.49   73.977936  435.010\n",
       "4   2020-02-07  50.29  180.35   78.964661  442.470\n",
       "..         ...    ...     ...         ...      ...\n",
       "204 2024-02-23  79.64  311.94  167.068634  447.163\n",
       "205 2024-03-01  79.22  319.51  161.151947  448.530\n",
       "206 2024-03-08  79.81  319.25  178.454819  446.994\n",
       "207 2024-03-15  82.16  328.85  138.023651  445.042\n",
       "208 2024-03-22  81.99  330.50  138.285553  448.207\n",
       "\n",
       "[189 rows x 5 columns]"
      ]
     },
     "execution_count": 27,
     "metadata": {},
     "output_type": "execute_result"
    }
   ],
   "source": [
    "df = Mgdf\n",
    "df"
   ]
  },
  {
   "cell_type": "code",
   "execution_count": 28,
   "id": "ff27d1e2",
   "metadata": {},
   "outputs": [],
   "source": [
    "df.DATE = pd.to_datetime(df.DATE, dayfirst=True)\n",
    "df = df.set_index(\"DATE\")"
   ]
  },
  {
   "cell_type": "code",
   "execution_count": 29,
   "id": "251058b0",
   "metadata": {},
   "outputs": [
    {
     "data": {
      "text/html": [
       "<div>\n",
       "<style scoped>\n",
       "    .dataframe tbody tr th:only-of-type {\n",
       "        vertical-align: middle;\n",
       "    }\n",
       "\n",
       "    .dataframe tbody tr th {\n",
       "        vertical-align: top;\n",
       "    }\n",
       "\n",
       "    .dataframe thead th {\n",
       "        text-align: right;\n",
       "    }\n",
       "</style>\n",
       "<table border=\"1\" class=\"dataframe\">\n",
       "  <thead>\n",
       "    <tr style=\"text-align: right;\">\n",
       "      <th></th>\n",
       "      <th>WTI</th>\n",
       "      <th>CRB</th>\n",
       "      <th>GPR</th>\n",
       "      <th>STOCK</th>\n",
       "    </tr>\n",
       "    <tr>\n",
       "      <th>DATE</th>\n",
       "      <th></th>\n",
       "      <th></th>\n",
       "      <th></th>\n",
       "      <th></th>\n",
       "    </tr>\n",
       "  </thead>\n",
       "  <tbody>\n",
       "    <tr>\n",
       "      <th>2020-01-03</th>\n",
       "      <td>62.97</td>\n",
       "      <td>197.84</td>\n",
       "      <td>80.794334</td>\n",
       "      <td>431.060</td>\n",
       "    </tr>\n",
       "    <tr>\n",
       "      <th>2020-01-10</th>\n",
       "      <td>58.99</td>\n",
       "      <td>194.97</td>\n",
       "      <td>167.301392</td>\n",
       "      <td>428.510</td>\n",
       "    </tr>\n",
       "    <tr>\n",
       "      <th>2020-01-17</th>\n",
       "      <td>58.55</td>\n",
       "      <td>193.71</td>\n",
       "      <td>129.822495</td>\n",
       "      <td>428.110</td>\n",
       "    </tr>\n",
       "    <tr>\n",
       "      <th>2020-01-31</th>\n",
       "      <td>51.53</td>\n",
       "      <td>180.49</td>\n",
       "      <td>73.977936</td>\n",
       "      <td>435.010</td>\n",
       "    </tr>\n",
       "    <tr>\n",
       "      <th>2020-02-07</th>\n",
       "      <td>50.29</td>\n",
       "      <td>180.35</td>\n",
       "      <td>78.964661</td>\n",
       "      <td>442.470</td>\n",
       "    </tr>\n",
       "    <tr>\n",
       "      <th>...</th>\n",
       "      <td>...</td>\n",
       "      <td>...</td>\n",
       "      <td>...</td>\n",
       "      <td>...</td>\n",
       "    </tr>\n",
       "    <tr>\n",
       "      <th>2024-02-23</th>\n",
       "      <td>79.64</td>\n",
       "      <td>311.94</td>\n",
       "      <td>167.068634</td>\n",
       "      <td>447.163</td>\n",
       "    </tr>\n",
       "    <tr>\n",
       "      <th>2024-03-01</th>\n",
       "      <td>79.22</td>\n",
       "      <td>319.51</td>\n",
       "      <td>161.151947</td>\n",
       "      <td>448.530</td>\n",
       "    </tr>\n",
       "    <tr>\n",
       "      <th>2024-03-08</th>\n",
       "      <td>79.81</td>\n",
       "      <td>319.25</td>\n",
       "      <td>178.454819</td>\n",
       "      <td>446.994</td>\n",
       "    </tr>\n",
       "    <tr>\n",
       "      <th>2024-03-15</th>\n",
       "      <td>82.16</td>\n",
       "      <td>328.85</td>\n",
       "      <td>138.023651</td>\n",
       "      <td>445.042</td>\n",
       "    </tr>\n",
       "    <tr>\n",
       "      <th>2024-03-22</th>\n",
       "      <td>81.99</td>\n",
       "      <td>330.50</td>\n",
       "      <td>138.285553</td>\n",
       "      <td>448.207</td>\n",
       "    </tr>\n",
       "  </tbody>\n",
       "</table>\n",
       "<p>189 rows × 4 columns</p>\n",
       "</div>"
      ],
      "text/plain": [
       "              WTI     CRB         GPR    STOCK\n",
       "DATE                                          \n",
       "2020-01-03  62.97  197.84   80.794334  431.060\n",
       "2020-01-10  58.99  194.97  167.301392  428.510\n",
       "2020-01-17  58.55  193.71  129.822495  428.110\n",
       "2020-01-31  51.53  180.49   73.977936  435.010\n",
       "2020-02-07  50.29  180.35   78.964661  442.470\n",
       "...           ...     ...         ...      ...\n",
       "2024-02-23  79.64  311.94  167.068634  447.163\n",
       "2024-03-01  79.22  319.51  161.151947  448.530\n",
       "2024-03-08  79.81  319.25  178.454819  446.994\n",
       "2024-03-15  82.16  328.85  138.023651  445.042\n",
       "2024-03-22  81.99  330.50  138.285553  448.207\n",
       "\n",
       "[189 rows x 4 columns]"
      ]
     },
     "execution_count": 29,
     "metadata": {},
     "output_type": "execute_result"
    }
   ],
   "source": [
    "df"
   ]
  },
  {
   "cell_type": "code",
   "execution_count": null,
   "id": "96390df5",
   "metadata": {},
   "outputs": [],
   "source": []
  },
  {
   "cell_type": "markdown",
   "id": "15392a9a",
   "metadata": {},
   "source": [
    "## 2. ADF Test "
   ]
  },
  {
   "cell_type": "code",
   "execution_count": 30,
   "id": "b0e85600",
   "metadata": {},
   "outputs": [
    {
     "name": "stdout",
     "output_type": "stream",
     "text": [
      "    Augmented Dickey-Fuller Test on \"WTI\" \n",
      "    -----------------------------------------------\n",
      " Null Hypothesis: Data has unit root. Non-Stationary.\n",
      " Significance Level    = 0.1\n",
      " Test Statistic        = -1.7893\n",
      " No. Lags Chosen       = 3\n",
      " Critical value 1%     = -3.466\n",
      " Critical value 5%     = -2.877\n",
      " Critical value 10%    = -2.575\n",
      " => P-Value = 0.3858. Weak evidence to reject the Null Hypothesis.\n",
      " => Series is Non-Stationary.\n",
      "    Augmented Dickey-Fuller Test on \"STOCK\" \n",
      "    -----------------------------------------------\n",
      " Null Hypothesis: Data has unit root. Non-Stationary.\n",
      " Significance Level    = 0.1\n",
      " Test Statistic        = -1.9041\n",
      " No. Lags Chosen       = 1\n",
      " Critical value 1%     = -3.466\n",
      " Critical value 5%     = -2.877\n",
      " Critical value 10%    = -2.575\n",
      " => P-Value = 0.3301. Weak evidence to reject the Null Hypothesis.\n",
      " => Series is Non-Stationary.\n",
      "    Augmented Dickey-Fuller Test on \"GPR\" \n",
      "    -----------------------------------------------\n",
      " Null Hypothesis: Data has unit root. Non-Stationary.\n",
      " Significance Level    = 0.1\n",
      " Test Statistic        = -4.0613\n",
      " No. Lags Chosen       = 1\n",
      " Critical value 1%     = -3.466\n",
      " Critical value 5%     = -2.877\n",
      " Critical value 10%    = -2.575\n",
      " => P-Value = 0.0011. Rejecting Null Hypothesis.\n",
      " => Series is Stationary.\n"
     ]
    },
    {
     "data": {
      "text/plain": [
       "{'WTI': False, 'STOCK': False, 'GPR': True}"
      ]
     },
     "execution_count": 30,
     "metadata": {},
     "output_type": "execute_result"
    }
   ],
   "source": [
    "from statsmodels.tsa.stattools import adfuller\n",
    "\n",
    "def adf_test(series, signif=0.10, name='', verbose=False):\n",
    "    r = adfuller(series, autolag='AIC')\n",
    "    output = {'test_statistic': round(r[0], 4), 'p-value': round(r[1], 4), 'n_lags': round(r[2], 4), 'n_obs': r[3]}\n",
    "    p_value = output['p-value'] \n",
    "    def adjust(val, length= 6): return str(val).ljust(length)\n",
    "\n",
    "    if verbose:\n",
    "        print(f'    Augmented Dickey-Fuller Test on \"{name}\"', \"\\n   \", '-'*47)\n",
    "        print(f' Null Hypothesis: Data has unit root. Non-Stationary.')\n",
    "        print(f' Significance Level    = {signif}')\n",
    "        print(f' Test Statistic        = {output[\"test_statistic\"]}')\n",
    "        print(f' No. Lags Chosen       = {output[\"n_lags\"]}')\n",
    "\n",
    "        for key, val in r[4].items():\n",
    "            print(f' Critical value {adjust(key)} = {round(val, 3)}')\n",
    "\n",
    "        if p_value <= signif:\n",
    "            print(f\" => P-Value = {p_value}. Rejecting Null Hypothesis.\")\n",
    "            print(f\" => Series is Stationary.\")\n",
    "        else:\n",
    "            print(f\" => P-Value = {p_value}. Weak evidence to reject the Null Hypothesis.\")\n",
    "            print(f\" => Series is Non-Stationary.\")\n",
    "    \n",
    "    return p_value <= signif\n",
    "\n",
    "# Apply ADF test to the WTI, STOCK, and GPR series\n",
    "adf_results = {\n",
    "    'WTI': adf_test(df['WTI'], name='WTI', verbose=True),\n",
    "    'STOCK': adf_test(df['STOCK'], name='STOCK', verbose=True),\n",
    "    'GPR': adf_test(df['GPR'], name='GPR', verbose=True)\n",
    "}\n",
    "\n",
    "adf_results\n"
   ]
  },
  {
   "cell_type": "raw",
   "id": "ea928014",
   "metadata": {},
   "source": [
    "*WTI 和 STOCK 的時間序列是非穩定的（p-value分別為0.3858和0.3301），這表示它們具有單位根，需要進行差分來達到穩定。\n",
    "*GPR 的時間序列是穩定的（p-value為0.0011），無需進行差分。"
   ]
  },
  {
   "cell_type": "code",
   "execution_count": null,
   "id": "97647791",
   "metadata": {},
   "outputs": [],
   "source": []
  },
  {
   "cell_type": "code",
   "execution_count": 31,
   "id": "2c65848f",
   "metadata": {},
   "outputs": [
    {
     "name": "stdout",
     "output_type": "stream",
     "text": [
      "    Augmented Dickey-Fuller Test on \"WTI_diff\" \n",
      "    -----------------------------------------------\n",
      " Null Hypothesis: Data has unit root. Non-Stationary.\n",
      " Significance Level    = 0.1\n",
      " Test Statistic        = -6.8473\n",
      " No. Lags Chosen       = 2\n",
      " Critical value 1%     = -3.466\n",
      " Critical value 5%     = -2.877\n",
      " Critical value 10%    = -2.575\n",
      " => P-Value = 0.0. Rejecting Null Hypothesis.\n",
      " => Series is Stationary.\n",
      "    Augmented Dickey-Fuller Test on \"STOCK_diff\" \n",
      "    -----------------------------------------------\n",
      " Null Hypothesis: Data has unit root. Non-Stationary.\n",
      " Significance Level    = 0.1\n",
      " Test Statistic        = -11.1279\n",
      " No. Lags Chosen       = 0\n",
      " Critical value 1%     = -3.466\n",
      " Critical value 5%     = -2.877\n",
      " Critical value 10%    = -2.575\n",
      " => P-Value = 0.0. Rejecting Null Hypothesis.\n",
      " => Series is Stationary.\n"
     ]
    },
    {
     "data": {
      "text/plain": [
       "{'WTI_diff': True, 'STOCK_diff': True}"
      ]
     },
     "execution_count": 31,
     "metadata": {},
     "output_type": "execute_result"
    }
   ],
   "source": [
    "df_diff = df.copy()\n",
    "df_diff['WTI'] = df['WTI'].diff().dropna()\n",
    "df_diff['STOCK'] = df['STOCK'].diff().dropna()\n",
    "\n",
    "df_diff = df_diff.dropna()\n",
    "\n",
    "diff_adf_results = {\n",
    "    'WTI_diff': adf_test(df_diff['WTI'], name='WTI_diff', verbose=True),\n",
    "    'STOCK_diff': adf_test(df_diff['STOCK'], name='STOCK_diff', verbose=True)\n",
    "}\n",
    "\n",
    "diff_adf_results\n"
   ]
  },
  {
   "cell_type": "raw",
   "id": "8cf59220",
   "metadata": {},
   "source": [
    "*WTI和STOCK進行差分處理，使這些序列穩定"
   ]
  },
  {
   "cell_type": "code",
   "execution_count": null,
   "id": "d7e8998e",
   "metadata": {},
   "outputs": [],
   "source": []
  },
  {
   "cell_type": "markdown",
   "id": "8eeecbcc",
   "metadata": {},
   "source": [
    "## 3. VAR Model"
   ]
  },
  {
   "cell_type": "code",
   "execution_count": 49,
   "id": "11f220e8",
   "metadata": {},
   "outputs": [
    {
     "name": "stderr",
     "output_type": "stream",
     "text": [
      "C:\\Users\\user\\anaconda3\\Lib\\site-packages\\statsmodels\\tsa\\base\\tsa_model.py:473: ValueWarning: A date index has been provided, but it has no associated frequency information and so will be ignored when e.g. forecasting.\n",
      "  self._init_dates(dates, freq)\n"
     ]
    },
    {
     "data": {
      "text/plain": [
       "  Summary of Regression Results   \n",
       "==================================\n",
       "Model:                         VAR\n",
       "Method:                        OLS\n",
       "Date:           Tue, 23, Apr, 2024\n",
       "Time:                     22:47:25\n",
       "--------------------------------------------------------------------\n",
       "No. of Equations:         3.00000    BIC:                    15.3653\n",
       "Nobs:                     185.000    HQIC:                   15.0547\n",
       "Log likelihood:          -2130.50    FPE:                2.79514e+06\n",
       "AIC:                      14.8431    Det(Omega_mle):     2.38679e+06\n",
       "--------------------------------------------------------------------\n",
       "Results for equation WTI\n",
       "===========================================================================\n",
       "              coefficient       std. error           t-stat            prob\n",
       "---------------------------------------------------------------------------\n",
       "const            0.511271         0.779115            0.656           0.512\n",
       "L1.WTI          -0.097258         0.073706           -1.320           0.187\n",
       "L1.STOCK        -0.050492         0.046647           -1.082           0.279\n",
       "L1.GPR           0.020758         0.007439            2.791           0.005\n",
       "L2.WTI           0.010511         0.072432            0.145           0.885\n",
       "L2.STOCK         0.057691         0.047683            1.210           0.226\n",
       "L2.GPR          -0.002089         0.008095           -0.258           0.796\n",
       "L3.WTI           0.169566         0.071986            2.356           0.018\n",
       "L3.STOCK         0.001215         0.047248            0.026           0.979\n",
       "L3.GPR          -0.021595         0.007432           -2.906           0.004\n",
       "===========================================================================\n",
       "\n",
       "Results for equation STOCK\n",
       "===========================================================================\n",
       "              coefficient       std. error           t-stat            prob\n",
       "---------------------------------------------------------------------------\n",
       "const           -1.087385         1.257162           -0.865           0.387\n",
       "L1.WTI          -0.029275         0.118930           -0.246           0.806\n",
       "L1.STOCK         0.178647         0.075268            2.373           0.018\n",
       "L1.GPR           0.001539         0.012003            0.128           0.898\n",
       "L2.WTI          -0.042284         0.116875           -0.362           0.718\n",
       "L2.STOCK         0.059481         0.076940            0.773           0.439\n",
       "L2.GPR           0.014819         0.013062            1.134           0.257\n",
       "L3.WTI          -0.242440         0.116155           -2.087           0.037\n",
       "L3.STOCK         0.008020         0.076239            0.105           0.916\n",
       "L3.GPR          -0.006721         0.011993           -0.560           0.575\n",
       "===========================================================================\n",
       "\n",
       "Results for equation GPR\n",
       "===========================================================================\n",
       "              coefficient       std. error           t-stat            prob\n",
       "---------------------------------------------------------------------------\n",
       "const           26.799240         7.964081            3.365           0.001\n",
       "L1.WTI          -0.090832         0.753418           -0.121           0.904\n",
       "L1.STOCK         0.611476         0.476821            1.282           0.200\n",
       "L1.GPR           0.509790         0.076037            6.704           0.000\n",
       "L2.WTI           0.491503         0.740400            0.664           0.507\n",
       "L2.STOCK        -0.782613         0.487412           -1.606           0.108\n",
       "L2.GPR           0.214800         0.082749            2.596           0.009\n",
       "L3.WTI           0.681259         0.735839            0.926           0.355\n",
       "L3.STOCK         0.256647         0.482971            0.531           0.595\n",
       "L3.GPR           0.055937         0.075974            0.736           0.462\n",
       "===========================================================================\n",
       "\n",
       "Correlation matrix of residuals\n",
       "              WTI     STOCK       GPR\n",
       "WTI      1.000000 -0.099193  0.144523\n",
       "STOCK   -0.099193  1.000000 -0.094527\n",
       "GPR      0.144523 -0.094527  1.000000\n",
       "\n"
      ]
     },
     "execution_count": 49,
     "metadata": {},
     "output_type": "execute_result"
    }
   ],
   "source": [
    "from statsmodels.tsa.vector_ar.var_model import VAR\n",
    "\n",
    "# Fitting VAR model\n",
    "model = VAR(df_diff[['WTI', 'STOCK', 'GPR']])\n",
    "results = model.fit(maxlags=15, ic='aic')\n",
    "\n",
    "# Display the summary of the VAR model\n",
    "results.summary()\n"
   ]
  },
  {
   "cell_type": "code",
   "execution_count": 50,
   "id": "9b02defc",
   "metadata": {},
   "outputs": [
    {
     "data": {
      "text/html": [
       "<table class=\"simpletable\">\n",
       "<caption>VAR Order Selection (* highlights the minimums)</caption>\n",
       "<tr>\n",
       "   <td></td>      <th>AIC</th>         <th>BIC</th>         <th>FPE</th>        <th>HQIC</th>    \n",
       "</tr>\n",
       "<tr>\n",
       "  <th>0</th>  <td>     15.20</td>  <td>     15.25</td>  <td> 3.982e+06</td>  <td>     15.22</td> \n",
       "</tr>\n",
       "<tr>\n",
       "  <th>1</th>  <td>     14.58</td>  <td>     14.79*</td> <td> 2.142e+06</td>  <td>     14.66*</td>\n",
       "</tr>\n",
       "<tr>\n",
       "  <th>2</th>  <td>     14.51*</td> <td>     14.89</td>  <td> 2.013e+06*</td> <td>     14.67</td> \n",
       "</tr>\n",
       "<tr>\n",
       "  <th>3</th>  <td>     14.52</td>  <td>     15.06</td>  <td> 2.016e+06</td>  <td>     14.74</td> \n",
       "</tr>\n",
       "<tr>\n",
       "  <th>4</th>  <td>     14.56</td>  <td>     15.27</td>  <td> 2.117e+06</td>  <td>     14.85</td> \n",
       "</tr>\n",
       "<tr>\n",
       "  <th>5</th>  <td>     14.60</td>  <td>     15.46</td>  <td> 2.194e+06</td>  <td>     14.95</td> \n",
       "</tr>\n",
       "<tr>\n",
       "  <th>6</th>  <td>     14.67</td>  <td>     15.69</td>  <td> 2.347e+06</td>  <td>     15.08</td> \n",
       "</tr>\n",
       "<tr>\n",
       "  <th>7</th>  <td>     14.71</td>  <td>     15.90</td>  <td> 2.455e+06</td>  <td>     15.19</td> \n",
       "</tr>\n",
       "<tr>\n",
       "  <th>8</th>  <td>     14.76</td>  <td>     16.11</td>  <td> 2.591e+06</td>  <td>     15.31</td> \n",
       "</tr>\n",
       "<tr>\n",
       "  <th>9</th>  <td>     14.83</td>  <td>     16.34</td>  <td> 2.775e+06</td>  <td>     15.44</td> \n",
       "</tr>\n",
       "<tr>\n",
       "  <th>10</th> <td>     14.84</td>  <td>     16.51</td>  <td> 2.810e+06</td>  <td>     15.52</td> \n",
       "</tr>\n",
       "<tr>\n",
       "  <th>11</th> <td>     14.87</td>  <td>     16.71</td>  <td> 2.915e+06</td>  <td>     15.62</td> \n",
       "</tr>\n",
       "<tr>\n",
       "  <th>12</th> <td>     14.87</td>  <td>     16.87</td>  <td> 2.922e+06</td>  <td>     15.68</td> \n",
       "</tr>\n",
       "</table>"
      ],
      "text/latex": [
       "\\begin{center}\n",
       "\\begin{tabular}{lcccc}\n",
       "\\toprule\n",
       "            & \\textbf{AIC} & \\textbf{BIC} & \\textbf{FPE} & \\textbf{HQIC}  \\\\\n",
       "\\midrule\n",
       "\\textbf{0}  &       15.20  &       15.25  &   3.982e+06  &        15.22   \\\\\n",
       "\\textbf{1}  &       14.58  &      14.79*  &   2.142e+06  &       14.66*   \\\\\n",
       "\\textbf{2}  &      14.51*  &       14.89  &  2.013e+06*  &        14.67   \\\\\n",
       "\\textbf{3}  &       14.52  &       15.06  &   2.016e+06  &        14.74   \\\\\n",
       "\\textbf{4}  &       14.56  &       15.27  &   2.117e+06  &        14.85   \\\\\n",
       "\\textbf{5}  &       14.60  &       15.46  &   2.194e+06  &        14.95   \\\\\n",
       "\\textbf{6}  &       14.67  &       15.69  &   2.347e+06  &        15.08   \\\\\n",
       "\\textbf{7}  &       14.71  &       15.90  &   2.455e+06  &        15.19   \\\\\n",
       "\\textbf{8}  &       14.76  &       16.11  &   2.591e+06  &        15.31   \\\\\n",
       "\\textbf{9}  &       14.83  &       16.34  &   2.775e+06  &        15.44   \\\\\n",
       "\\textbf{10} &       14.84  &       16.51  &   2.810e+06  &        15.52   \\\\\n",
       "\\textbf{11} &       14.87  &       16.71  &   2.915e+06  &        15.62   \\\\\n",
       "\\textbf{12} &       14.87  &       16.87  &   2.922e+06  &        15.68   \\\\\n",
       "\\bottomrule\n",
       "\\end{tabular}\n",
       "%\\caption{VAR Order Selection (* highlights the minimums)}\n",
       "\\end{center}"
      ],
      "text/plain": [
       "<class 'statsmodels.iolib.table.SimpleTable'>"
      ]
     },
     "execution_count": 50,
     "metadata": {},
     "output_type": "execute_result"
    }
   ],
   "source": [
    "model.select_order(maxlags=12).summary()"
   ]
  },
  {
   "cell_type": "code",
   "execution_count": 51,
   "id": "520eeecb",
   "metadata": {},
   "outputs": [
    {
     "data": {
      "text/plain": [
       "{'WTI caused by STOCK and GPR': <class 'statsmodels.iolib.table.SimpleTable'>,\n",
       " 'STOCK caused by WTI and GPR': <class 'statsmodels.iolib.table.SimpleTable'>,\n",
       " 'GPR caused by WTI and STOCK': <class 'statsmodels.iolib.table.SimpleTable'>}"
      ]
     },
     "execution_count": 51,
     "metadata": {},
     "output_type": "execute_result"
    }
   ],
   "source": [
    "granger_test_wti = results.test_causality('WTI', ['STOCK', 'GPR'], kind='wald')\n",
    "granger_test_stock = results.test_causality('STOCK', ['WTI', 'GPR'], kind='wald')\n",
    "granger_test_gpr = results.test_causality('GPR', ['WTI', 'STOCK'], kind='wald')\n",
    "\n",
    "# Collect and display the summaries of the Granger causality tests\n",
    "granger_test_summaries = {\n",
    "    'WTI caused by STOCK and GPR': granger_test_wti.summary(),\n",
    "    'STOCK caused by WTI and GPR': granger_test_stock.summary(),\n",
    "    'GPR caused by WTI and STOCK': granger_test_gpr.summary()\n",
    "}\n",
    "\n",
    "granger_test_summaries"
   ]
  },
  {
   "cell_type": "code",
   "execution_count": 52,
   "id": "4b5928f2",
   "metadata": {},
   "outputs": [
    {
     "data": {
      "text/html": [
       "<table class=\"simpletable\">\n",
       "<caption>Granger causality Wald-test. H_0: ['STOCK', 'GPR'] do not Granger-cause WTI. Conclusion: reject H_0 at 5% significance level.</caption>\n",
       "<tr>\n",
       "  <th>Test statistic</th> <th>Critical value</th> <th>p-value</th> <th>df</th>\n",
       "</tr>\n",
       "<tr>\n",
       "       <td>16.84</td>          <td>12.59</td>      <td>0.010</td>   <td>6</td>\n",
       "</tr>\n",
       "</table>"
      ],
      "text/latex": [
       "\\begin{center}\n",
       "\\begin{tabular}{cccc}\n",
       "\\toprule\n",
       "\\textbf{Test statistic} & \\textbf{Critical value} & \\textbf{p-value} & \\textbf{df}  \\\\\n",
       "\\midrule\n",
       "         16.84          &          12.59          &      0.010       &      6       \\\\\n",
       "\\bottomrule\n",
       "\\end{tabular}\n",
       "%\\caption{Granger causality Wald-test. H_0: ['STOCK', 'GPR'] do not Granger-cause WTI. Conclusion: reject H_0 at 5% significance level.}\n",
       "\\end{center}"
      ],
      "text/plain": [
       "<class 'statsmodels.iolib.table.SimpleTable'>"
      ]
     },
     "execution_count": 52,
     "metadata": {},
     "output_type": "execute_result"
    }
   ],
   "source": [
    "granger_test_wti.summary()"
   ]
  },
  {
   "cell_type": "code",
   "execution_count": 53,
   "id": "632d53d8",
   "metadata": {},
   "outputs": [
    {
     "data": {
      "text/html": [
       "<table class=\"simpletable\">\n",
       "<caption>Granger causality Wald-test. H_0: ['WTI', 'GPR'] do not Granger-cause STOCK. Conclusion: fail to reject H_0 at 5% significance level.</caption>\n",
       "<tr>\n",
       "  <th>Test statistic</th> <th>Critical value</th> <th>p-value</th> <th>df</th>\n",
       "</tr>\n",
       "<tr>\n",
       "       <td>6.235</td>          <td>12.59</td>      <td>0.397</td>   <td>6</td>\n",
       "</tr>\n",
       "</table>"
      ],
      "text/latex": [
       "\\begin{center}\n",
       "\\begin{tabular}{cccc}\n",
       "\\toprule\n",
       "\\textbf{Test statistic} & \\textbf{Critical value} & \\textbf{p-value} & \\textbf{df}  \\\\\n",
       "\\midrule\n",
       "         6.235          &          12.59          &      0.397       &      6       \\\\\n",
       "\\bottomrule\n",
       "\\end{tabular}\n",
       "%\\caption{Granger causality Wald-test. H_0: ['WTI', 'GPR'] do not Granger-cause STOCK. Conclusion: fail to reject H_0 at 5% significance level.}\n",
       "\\end{center}"
      ],
      "text/plain": [
       "<class 'statsmodels.iolib.table.SimpleTable'>"
      ]
     },
     "execution_count": 53,
     "metadata": {},
     "output_type": "execute_result"
    }
   ],
   "source": [
    "granger_test_stock.summary()"
   ]
  },
  {
   "cell_type": "code",
   "execution_count": 54,
   "id": "b3383134",
   "metadata": {},
   "outputs": [
    {
     "data": {
      "text/html": [
       "<table class=\"simpletable\">\n",
       "<caption>Granger causality Wald-test. H_0: ['WTI', 'STOCK'] do not Granger-cause GPR. Conclusion: fail to reject H_0 at 5% significance level.</caption>\n",
       "<tr>\n",
       "  <th>Test statistic</th> <th>Critical value</th> <th>p-value</th> <th>df</th>\n",
       "</tr>\n",
       "<tr>\n",
       "       <td>5.079</td>          <td>12.59</td>      <td>0.534</td>   <td>6</td>\n",
       "</tr>\n",
       "</table>"
      ],
      "text/latex": [
       "\\begin{center}\n",
       "\\begin{tabular}{cccc}\n",
       "\\toprule\n",
       "\\textbf{Test statistic} & \\textbf{Critical value} & \\textbf{p-value} & \\textbf{df}  \\\\\n",
       "\\midrule\n",
       "         5.079          &          12.59          &      0.534       &      6       \\\\\n",
       "\\bottomrule\n",
       "\\end{tabular}\n",
       "%\\caption{Granger causality Wald-test. H_0: ['WTI', 'STOCK'] do not Granger-cause GPR. Conclusion: fail to reject H_0 at 5% significance level.}\n",
       "\\end{center}"
      ],
      "text/plain": [
       "<class 'statsmodels.iolib.table.SimpleTable'>"
      ]
     },
     "execution_count": 54,
     "metadata": {},
     "output_type": "execute_result"
    }
   ],
   "source": [
    "granger_test_gpr.summary()"
   ]
  },
  {
   "cell_type": "code",
   "execution_count": null,
   "id": "2d2e4adb",
   "metadata": {},
   "outputs": [],
   "source": []
  },
  {
   "cell_type": "code",
   "execution_count": 55,
   "id": "7cddfd34",
   "metadata": {},
   "outputs": [
    {
     "data": {
      "text/plain": [
       "{'WTI caused by STOCK ': <class 'statsmodels.iolib.table.SimpleTable'>,\n",
       " 'WTI caused by GPR': <class 'statsmodels.iolib.table.SimpleTable'>}"
      ]
     },
     "execution_count": 55,
     "metadata": {},
     "output_type": "execute_result"
    }
   ],
   "source": [
    "granger_test_wti2 = results.test_causality('WTI', ['STOCK'], kind='wald')\n",
    "granger_test_wti3 = results.test_causality('WTI', ['GPR'], kind='wald')\n",
    "\n",
    "\n",
    "# Collect and display the summaries of the Granger causality tests\n",
    "granger_test_summaries = {\n",
    "    'WTI caused by STOCK ': granger_test_wti2.summary(),\n",
    "    'WTI caused by GPR': granger_test_wti3.summary(),\n",
    "\n",
    "}\n",
    "\n",
    "granger_test_summaries"
   ]
  },
  {
   "cell_type": "code",
   "execution_count": 56,
   "id": "f7429f34",
   "metadata": {},
   "outputs": [
    {
     "data": {
      "text/html": [
       "<table class=\"simpletable\">\n",
       "<caption>Granger causality Wald-test. H_0: STOCK does not Granger-cause WTI. Conclusion: fail to reject H_0 at 5% significance level.</caption>\n",
       "<tr>\n",
       "  <th>Test statistic</th> <th>Critical value</th> <th>p-value</th> <th>df</th>\n",
       "</tr>\n",
       "<tr>\n",
       "       <td>2.281</td>          <td>7.815</td>      <td>0.516</td>   <td>3</td>\n",
       "</tr>\n",
       "</table>"
      ],
      "text/latex": [
       "\\begin{center}\n",
       "\\begin{tabular}{cccc}\n",
       "\\toprule\n",
       "\\textbf{Test statistic} & \\textbf{Critical value} & \\textbf{p-value} & \\textbf{df}  \\\\\n",
       "\\midrule\n",
       "         2.281          &          7.815          &      0.516       &      3       \\\\\n",
       "\\bottomrule\n",
       "\\end{tabular}\n",
       "%\\caption{Granger causality Wald-test. H_0: STOCK does not Granger-cause WTI. Conclusion: fail to reject H_0 at 5% significance level.}\n",
       "\\end{center}"
      ],
      "text/plain": [
       "<class 'statsmodels.iolib.table.SimpleTable'>"
      ]
     },
     "execution_count": 56,
     "metadata": {},
     "output_type": "execute_result"
    }
   ],
   "source": [
    "granger_test_wti2.summary()"
   ]
  },
  {
   "cell_type": "code",
   "execution_count": 57,
   "id": "af920ae7",
   "metadata": {},
   "outputs": [
    {
     "data": {
      "text/html": [
       "<table class=\"simpletable\">\n",
       "<caption>Granger causality Wald-test. H_0: GPR does not Granger-cause WTI. Conclusion: reject H_0 at 5% significance level.</caption>\n",
       "<tr>\n",
       "  <th>Test statistic</th> <th>Critical value</th> <th>p-value</th> <th>df</th>\n",
       "</tr>\n",
       "<tr>\n",
       "       <td>13.09</td>          <td>7.815</td>      <td>0.004</td>   <td>3</td>\n",
       "</tr>\n",
       "</table>"
      ],
      "text/latex": [
       "\\begin{center}\n",
       "\\begin{tabular}{cccc}\n",
       "\\toprule\n",
       "\\textbf{Test statistic} & \\textbf{Critical value} & \\textbf{p-value} & \\textbf{df}  \\\\\n",
       "\\midrule\n",
       "         13.09          &          7.815          &      0.004       &      3       \\\\\n",
       "\\bottomrule\n",
       "\\end{tabular}\n",
       "%\\caption{Granger causality Wald-test. H_0: GPR does not Granger-cause WTI. Conclusion: reject H_0 at 5% significance level.}\n",
       "\\end{center}"
      ],
      "text/plain": [
       "<class 'statsmodels.iolib.table.SimpleTable'>"
      ]
     },
     "execution_count": 57,
     "metadata": {},
     "output_type": "execute_result"
    }
   ],
   "source": [
    "granger_test_wti3.summary()"
   ]
  },
  {
   "cell_type": "code",
   "execution_count": null,
   "id": "6ca4e020",
   "metadata": {},
   "outputs": [],
   "source": []
  },
  {
   "cell_type": "code",
   "execution_count": null,
   "id": "8d6db941",
   "metadata": {},
   "outputs": [],
   "source": []
  },
  {
   "cell_type": "code",
   "execution_count": 58,
   "id": "6db50c40",
   "metadata": {},
   "outputs": [
    {
     "data": {
      "image/png": "[encoded data removed]",
      "text/plain": [
       "<Figure size 1000x1000 with 9 Axes>"
      ]
     },
     "metadata": {},
     "output_type": "display_data"
    }
   ],
   "source": [
    "import matplotlib.pyplot as plt\n",
    "\n",
    "# Computing the impulse response functions from the VAR model results\n",
    "irf = results.irf(15)  # Compute IRF for 10 periods\n",
    "\n",
    "# Plotting the impulse response functions\n",
    "irf_fig = irf.plot(orth=True,signif=0.10)  # Using orthogonalized impulses\n",
    "plt.show()"
   ]
  },
  {
   "cell_type": "code",
   "execution_count": null,
   "id": "f6c61e29",
   "metadata": {},
   "outputs": [],
   "source": []
  },
  {
   "cell_type": "code",
   "execution_count": null,
   "id": "890b9075",
   "metadata": {},
   "outputs": [],
   "source": []
  }
 ],
 "metadata": {
  "kernelspec": {
   "display_name": "Python 3 (ipykernel)",
   "language": "python",
   "name": "python3"
  },
  "language_info": {
   "codemirror_mode": {
    "name": "ipython",
    "version": 3
   },
   "file_extension": ".py",
   "mimetype": "text/x-python",
   "name": "python",
   "nbconvert_exporter": "python",
   "pygments_lexer": "ipython3",
   "version": "3.11.5"
  }
 },
 "nbformat": 4,
 "nbformat_minor": 5
}
